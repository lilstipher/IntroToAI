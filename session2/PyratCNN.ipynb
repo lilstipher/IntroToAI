{
 "cells": [
  {
   "cell_type": "markdown",
   "metadata": {
    "nbpresent": {
     "id": "191bb19e-e65d-4610-993f-ff8a3ae8cf1f"
    }
   },
   "source": [
    " Application to PyRat Datasets (Convolutional neural network)\n",
    "--\n"
   ]
  },
  {
   "cell_type": "markdown",
   "metadata": {},
   "source": [
    "Convolutional neural networks were inspired by biological processes in which the connectivity pattern between neurons is inspired by the organization of the animal visual cortex."
   ]
  },
  {
   "cell_type": "code",
   "execution_count": 81,
   "metadata": {},
   "outputs": [
    {
     "name": "stdout",
     "output_type": "stream",
     "text": [
      "(1000, 315) (1000,)\n"
     ]
    }
   ],
   "source": [
    "#import \n",
    "import numpy as np\n",
    "import ast\n",
    "import os\n",
    "x = np.load(\"dataset_cnn.npz\")['x']\n",
    "y = np.load(\"dataset_cnn.npz\")['y']\n",
    "print(x.shape, y.shape)"
   ]
  },
  {
   "cell_type": "markdown",
   "metadata": {},
   "source": [
    "We create here train and test datasets\n"
   ]
  },
  {
   "cell_type": "code",
   "execution_count": 82,
   "metadata": {},
   "outputs": [
    {
     "name": "stdout",
     "output_type": "stream",
     "text": [
      "(800, 315) (200, 315)\n"
     ]
    }
   ],
   "source": [
    "from sklearn.model_selection import train_test_split\n",
    "\n",
    "#### CELL TO BE COMPLETED \n",
    "\n",
    "x_train, x_test, y_train, y_test = train_test_split(x,y,test_size=0.2,random_state=0)\n",
    "print(x_train.shape, x_test.shape)"
   ]
  },
  {
   "cell_type": "code",
   "execution_count": 83,
   "metadata": {
    "nbpresent": {
     "id": "fbd694e3-b95c-45de-a440-a57b4e93750f"
    },
    "scrolled": true
   },
   "outputs": [
    {
     "name": "stdout",
     "output_type": "stream",
     "text": [
      "(800, 21, 15, 1) (800,)\n",
      "_________________________________________________________________\n",
      "Layer (type)                 Output Shape              Param #   \n",
      "=================================================================\n",
      "conv2d_55 (Conv2D)           (None, 19, 13, 30)        300       \n",
      "_________________________________________________________________\n",
      "conv2d_56 (Conv2D)           (None, 17, 11, 60)        16260     \n",
      "_________________________________________________________________\n",
      "max_pooling2d_28 (MaxPooling (None, 8, 5, 60)          0         \n",
      "_________________________________________________________________\n",
      "flatten_28 (Flatten)         (None, 2400)              0         \n",
      "_________________________________________________________________\n",
      "dense_28 (Dense)             (None, 3)                 7203      \n",
      "=================================================================\n",
      "Total params: 23,763\n",
      "Trainable params: 23,763\n",
      "Non-trainable params: 0\n",
      "_________________________________________________________________\n",
      "None\n",
      "(800, 21, 15, 1)\n",
      "Train on 800 samples, validate on 200 samples\n",
      "Epoch 1/3\n",
      "800/800 [==============================] - 1s 824us/step - loss: 1.0033 - acc: 0.4475 - val_loss: 0.9561 - val_acc: 0.4700\n",
      "Epoch 2/3\n",
      "800/800 [==============================] - 0s 135us/step - loss: 0.9641 - acc: 0.5125 - val_loss: 0.9577 - val_acc: 0.5100\n",
      "Epoch 3/3\n",
      "800/800 [==============================] - 0s 130us/step - loss: 0.9311 - acc: 0.5625 - val_loss: 0.9505 - val_acc: 0.5350\n",
      "Test loss: 0.9505259704589843\n",
      "Test accuracy: 0.535\n"
     ]
    }
   ],
   "source": [
    "'''Trains a simple convnet on the MNIST dataset.\n",
    "\n",
    "Gets to 99.25% test accuracy after 12 epochs\n",
    "(there is still a lot of margin for parameter tuning).\n",
    "16 seconds per epoch on a GRID K520 GPU.\n",
    "'''\n",
    "\n",
    "#keras\n",
    "from __future__ import print_function\n",
    "import keras\n",
    "from keras.datasets import mnist\n",
    "from keras.models import Sequential\n",
    "from keras.layers import Dense, Dropout, Flatten\n",
    "from keras.layers import Conv2D, MaxPooling2D\n",
    "from keras import backend as K\n",
    "\n",
    "batch_size =30\n",
    "num_classes = 3\n",
    "epochs = 3\n",
    "\n",
    "# input image dimensions\n",
    "img_rows, img_cols = 21, 15\n",
    "\n",
    "x_train = x_train.reshape(-1,21,15,1)\n",
    "x_test = x_test.reshape(-1,21,15,1)\n",
    "input_shape = (21,15,1)\n",
    "\n",
    "print(x_train.shape,y_train.shape)\n",
    "\n",
    "# convert class vectors to binary class matrices\n",
    "y_train = keras.utils.to_categorical(y_train, num_classes)\n",
    "y_test = keras.utils.to_categorical(y_test, num_classes)\n",
    "\n",
    "model = Sequential()\n",
    "model.add(Conv2D(30, kernel_size=(3, 3),\n",
    "                 activation='relu',\n",
    "                 input_shape=input_shape))\n",
    "model.add(Conv2D(60, (3, 3), activation='relu'))\n",
    "model.add(MaxPooling2D(pool_size=(2, 2)))\n",
    "model.add(Flatten())\n",
    "model.add(Dense(num_classes, activation='softmax'))\n",
    "\n",
    "model.compile(loss=keras.losses.categorical_crossentropy,\n",
    "              optimizer=keras.optimizers.Adadelta(),\n",
    "              metrics=['accuracy'])\n",
    "print(model.summary())\n",
    "print(x_train.shape)\n",
    "model.fit(x_train, y_train,\n",
    "          batch_size=batch_size,\n",
    "          epochs=epochs,\n",
    "          verbose=1,\n",
    "          validation_data=(x_test, y_test))\n",
    "score = model.evaluate(x_test, y_test, verbose=0)\n",
    "print('Test loss:', score[0])\n",
    "print('Test accuracy:', score[1])\n"
   ]
  },
  {
   "cell_type": "code",
   "execution_count": 84,
   "metadata": {},
   "outputs": [
    {
     "name": "stdout",
     "output_type": "stream",
     "text": [
      "(10000, 315) (10000,)\n"
     ]
    }
   ],
   "source": [
    "#import \n",
    "\n",
    "x = np.load(\"dataset_cnn_10000.npz\")['x']\n",
    "y = np.load(\"dataset_cnn_10000.npz\")['y']\n",
    "print(x.shape, y.shape)\n"
   ]
  },
  {
   "cell_type": "code",
   "execution_count": null,
   "metadata": {},
   "outputs": [],
   "source": []
  },
  {
   "cell_type": "markdown",
   "metadata": {},
   "source": [
    "Test avec 10000 echantillons"
   ]
  },
  {
   "cell_type": "code",
   "execution_count": 85,
   "metadata": {
    "nbpresent": {
     "id": "4f1744ee-5d6c-46b2-9f2a-ed48d1b315ff"
    }
   },
   "outputs": [],
   "source": [
    "\n",
    "\n",
    "# input image dimensions\n",
    "def cnn(batch_size,epochs,x_train, x_test, y_train, y_test,num_classes = 3):\n",
    "    img_rows, img_cols = 21, 15\n",
    "\n",
    "    x_train = x_train.reshape(-1,21,15,1)\n",
    "    x_test = x_test.reshape(-1,21,15,1)\n",
    "    input_shape = (21,15,1)\n",
    "\n",
    "    print(x_train.shape,y_train.shape)\n",
    "\n",
    "    # convert class vectors to binary class matrices\n",
    "    y_train = keras.utils.to_categorical(y_train, num_classes)\n",
    "    y_test = keras.utils.to_categorical(y_test, num_classes)\n",
    "\n",
    "    model = Sequential()\n",
    "    model.add(Conv2D(32, kernel_size=(3, 3),\n",
    "                     activation='relu',\n",
    "                     input_shape=input_shape))\n",
    "    model.add(Conv2D(64, (3, 3), activation='relu'))\n",
    "    model.add(MaxPooling2D(pool_size=(2, 2)))\n",
    "    model.add(Flatten())\n",
    "    model.add(Dense(num_classes, activation='softmax'))\n",
    "\n",
    "    model.compile(loss=keras.losses.categorical_crossentropy,\n",
    "                  optimizer=keras.optimizers.Adadelta(),\n",
    "                  metrics=['accuracy'])\n",
    "    print(model.summary())\n",
    "    print(x_train.shape)\n",
    "    model.fit(x_train, y_train,\n",
    "              batch_size=batch_size,\n",
    "              epochs=epochs,\n",
    "              verbose=1,\n",
    "              validation_data=(x_test, y_test))\n",
    "    score = model.evaluate(x_test, y_test, verbose=0)\n",
    "    print('Test loss:', score[0])\n",
    "    print('Test accuracy:', score[1])"
   ]
  },
  {
   "cell_type": "code",
   "execution_count": 86,
   "metadata": {
    "nbpresent": {
     "id": "d2a39e02-44e7-48bd-9ba1-a273582177c0"
    },
    "scrolled": false
   },
   "outputs": [
    {
     "name": "stdout",
     "output_type": "stream",
     "text": [
      "(8000, 315) (2000, 315)\n",
      "(8000, 21, 15, 1) (8000,)\n",
      "_________________________________________________________________\n",
      "Layer (type)                 Output Shape              Param #   \n",
      "=================================================================\n",
      "conv2d_57 (Conv2D)           (None, 20, 14, 32)        160       \n",
      "_________________________________________________________________\n",
      "conv2d_58 (Conv2D)           (None, 18, 12, 64)        18496     \n",
      "_________________________________________________________________\n",
      "max_pooling2d_29 (MaxPooling (None, 9, 6, 64)          0         \n",
      "_________________________________________________________________\n",
      "flatten_29 (Flatten)         (None, 3456)              0         \n",
      "_________________________________________________________________\n",
      "dense_29 (Dense)             (None, 3)                 10371     \n",
      "=================================================================\n",
      "Total params: 29,027\n",
      "Trainable params: 29,027\n",
      "Non-trainable params: 0\n",
      "_________________________________________________________________\n",
      "None\n",
      "(8000, 21, 15, 1)\n",
      "Train on 8000 samples, validate on 2000 samples\n",
      "Epoch 1/3\n",
      "8000/8000 [==============================] - 3s 379us/step - loss: 0.9516 - acc: 0.5375 - val_loss: 0.9238 - val_acc: 0.5735\n",
      "Epoch 2/3\n",
      "8000/8000 [==============================] - 2s 304us/step - loss: 0.9173 - acc: 0.5804 - val_loss: 0.9259 - val_acc: 0.5700\n",
      "Epoch 3/3\n",
      "8000/8000 [==============================] - 2s 307us/step - loss: 0.8972 - acc: 0.5888 - val_loss: 0.9275 - val_acc: 0.5700\n",
      "Test loss: 0.9274713225364685\n",
      "Test accuracy: 0.57\n",
      "(8000, 21, 15, 1) (8000,)\n",
      "_________________________________________________________________\n",
      "Layer (type)                 Output Shape              Param #   \n",
      "=================================================================\n",
      "conv2d_59 (Conv2D)           (None, 20, 14, 32)        160       \n",
      "_________________________________________________________________\n",
      "conv2d_60 (Conv2D)           (None, 18, 12, 64)        18496     \n",
      "_________________________________________________________________\n",
      "max_pooling2d_30 (MaxPooling (None, 9, 6, 64)          0         \n",
      "_________________________________________________________________\n",
      "flatten_30 (Flatten)         (None, 3456)              0         \n",
      "_________________________________________________________________\n",
      "dense_30 (Dense)             (None, 3)                 10371     \n",
      "=================================================================\n",
      "Total params: 29,027\n",
      "Trainable params: 29,027\n",
      "Non-trainable params: 0\n",
      "_________________________________________________________________\n",
      "None\n",
      "(8000, 21, 15, 1)\n",
      "Train on 8000 samples, validate on 2000 samples\n",
      "Epoch 1/3\n",
      "8000/8000 [==============================] - 2s 245us/step - loss: 0.9512 - acc: 0.5419 - val_loss: 0.9286 - val_acc: 0.5640\n",
      "Epoch 2/3\n",
      "8000/8000 [==============================] - 1s 159us/step - loss: 0.9161 - acc: 0.5809 - val_loss: 0.9202 - val_acc: 0.5740\n",
      "Epoch 3/3\n",
      "8000/8000 [==============================] - 1s 167us/step - loss: 0.8936 - acc: 0.5945 - val_loss: 0.9294 - val_acc: 0.5655\n",
      "Test loss: 0.9293509430885315\n",
      "Test accuracy: 0.5655\n",
      "(8000, 21, 15, 1) (8000,)\n",
      "_________________________________________________________________\n",
      "Layer (type)                 Output Shape              Param #   \n",
      "=================================================================\n",
      "conv2d_61 (Conv2D)           (None, 20, 14, 32)        160       \n",
      "_________________________________________________________________\n",
      "conv2d_62 (Conv2D)           (None, 18, 12, 64)        18496     \n",
      "_________________________________________________________________\n",
      "max_pooling2d_31 (MaxPooling (None, 9, 6, 64)          0         \n",
      "_________________________________________________________________\n",
      "flatten_31 (Flatten)         (None, 3456)              0         \n",
      "_________________________________________________________________\n",
      "dense_31 (Dense)             (None, 3)                 10371     \n",
      "=================================================================\n",
      "Total params: 29,027\n",
      "Trainable params: 29,027\n",
      "Non-trainable params: 0\n",
      "_________________________________________________________________\n",
      "None\n",
      "(8000, 21, 15, 1)\n",
      "Train on 8000 samples, validate on 2000 samples\n",
      "Epoch 1/3\n",
      "8000/8000 [==============================] - 1s 187us/step - loss: 0.9523 - acc: 0.5330 - val_loss: 0.9325 - val_acc: 0.5595\n",
      "Epoch 2/3\n",
      "8000/8000 [==============================] - 1s 129us/step - loss: 0.9207 - acc: 0.5766 - val_loss: 0.9191 - val_acc: 0.5705\n",
      "Epoch 3/3\n",
      "8000/8000 [==============================] - 1s 116us/step - loss: 0.9014 - acc: 0.5905 - val_loss: 0.9272 - val_acc: 0.5635\n",
      "Test loss: 0.9271999225616455\n",
      "Test accuracy: 0.5635\n",
      "(8000, 21, 15, 1) (8000,)\n",
      "_________________________________________________________________\n",
      "Layer (type)                 Output Shape              Param #   \n",
      "=================================================================\n",
      "conv2d_63 (Conv2D)           (None, 20, 14, 32)        160       \n",
      "_________________________________________________________________\n",
      "conv2d_64 (Conv2D)           (None, 18, 12, 64)        18496     \n",
      "_________________________________________________________________\n",
      "max_pooling2d_32 (MaxPooling (None, 9, 6, 64)          0         \n",
      "_________________________________________________________________\n",
      "flatten_32 (Flatten)         (None, 3456)              0         \n",
      "_________________________________________________________________\n",
      "dense_32 (Dense)             (None, 3)                 10371     \n",
      "=================================================================\n",
      "Total params: 29,027\n",
      "Trainable params: 29,027\n",
      "Non-trainable params: 0\n",
      "_________________________________________________________________\n",
      "None\n",
      "(8000, 21, 15, 1)\n",
      "Train on 8000 samples, validate on 2000 samples\n",
      "Epoch 1/3\n",
      "8000/8000 [==============================] - 1s 158us/step - loss: 0.9612 - acc: 0.5139 - val_loss: 0.9253 - val_acc: 0.5655\n",
      "Epoch 2/3\n",
      "8000/8000 [==============================] - 1s 84us/step - loss: 0.9235 - acc: 0.5728 - val_loss: 0.9375 - val_acc: 0.5730\n",
      "Epoch 3/3\n",
      "8000/8000 [==============================] - 1s 85us/step - loss: 0.9076 - acc: 0.5869 - val_loss: 0.9388 - val_acc: 0.5645\n",
      "Test loss: 0.9387809796333313\n",
      "Test accuracy: 0.5645\n",
      "(8000, 21, 15, 1) (8000,)\n",
      "_________________________________________________________________\n",
      "Layer (type)                 Output Shape              Param #   \n",
      "=================================================================\n",
      "conv2d_65 (Conv2D)           (None, 20, 14, 32)        160       \n",
      "_________________________________________________________________\n",
      "conv2d_66 (Conv2D)           (None, 18, 12, 64)        18496     \n",
      "_________________________________________________________________\n",
      "max_pooling2d_33 (MaxPooling (None, 9, 6, 64)          0         \n",
      "_________________________________________________________________\n",
      "flatten_33 (Flatten)         (None, 3456)              0         \n",
      "_________________________________________________________________\n",
      "dense_33 (Dense)             (None, 3)                 10371     \n",
      "=================================================================\n",
      "Total params: 29,027\n",
      "Trainable params: 29,027\n",
      "Non-trainable params: 0\n",
      "_________________________________________________________________\n",
      "None\n",
      "(8000, 21, 15, 1)\n",
      "Train on 8000 samples, validate on 2000 samples\n",
      "Epoch 1/3\n",
      "8000/8000 [==============================] - 1s 140us/step - loss: 0.9647 - acc: 0.5105 - val_loss: 0.9448 - val_acc: 0.5315\n",
      "Epoch 2/3\n",
      "8000/8000 [==============================] - 0s 55us/step - loss: 0.9282 - acc: 0.5627 - val_loss: 0.9271 - val_acc: 0.5695\n",
      "Epoch 3/3\n",
      "8000/8000 [==============================] - 1s 63us/step - loss: 0.9184 - acc: 0.5760 - val_loss: 0.9201 - val_acc: 0.5705\n",
      "Test loss: 0.9201452121734619\n",
      "Test accuracy: 0.5705\n",
      "(8000, 21, 15, 1) (8000,)\n",
      "_________________________________________________________________\n",
      "Layer (type)                 Output Shape              Param #   \n",
      "=================================================================\n",
      "conv2d_67 (Conv2D)           (None, 20, 14, 32)        160       \n",
      "_________________________________________________________________\n",
      "conv2d_68 (Conv2D)           (None, 18, 12, 64)        18496     \n",
      "_________________________________________________________________\n",
      "max_pooling2d_34 (MaxPooling (None, 9, 6, 64)          0         \n",
      "_________________________________________________________________\n",
      "flatten_34 (Flatten)         (None, 3456)              0         \n",
      "_________________________________________________________________\n",
      "dense_34 (Dense)             (None, 3)                 10371     \n",
      "=================================================================\n",
      "Total params: 29,027\n",
      "Trainable params: 29,027\n",
      "Non-trainable params: 0\n",
      "_________________________________________________________________\n",
      "None\n",
      "(8000, 21, 15, 1)\n"
     ]
    },
    {
     "name": "stdout",
     "output_type": "stream",
     "text": [
      "Train on 8000 samples, validate on 2000 samples\n",
      "Epoch 1/3\n",
      "8000/8000 [==============================] - 1s 130us/step - loss: 0.9772 - acc: 0.4894 - val_loss: 0.9776 - val_acc: 0.4815\n",
      "Epoch 2/3\n",
      "8000/8000 [==============================] - 0s 40us/step - loss: 0.9449 - acc: 0.5422 - val_loss: 0.9369 - val_acc: 0.5460\n",
      "Epoch 3/3\n",
      "8000/8000 [==============================] - 0s 41us/step - loss: 0.9259 - acc: 0.5668 - val_loss: 0.9242 - val_acc: 0.5640\n",
      "Test loss: 0.9242056317329407\n",
      "Test accuracy: 0.564\n"
     ]
    }
   ],
   "source": [
    "batch_size =[10,20,30,50,100,200]\n",
    "num_classes = 3\n",
    "epochs = 3\n",
    "\n",
    "x_train, x_test, y_train, y_test = train_test_split(x,y,test_size=0.2,random_state=0)\n",
    "print(x_train.shape, x_test.shape)\n",
    "for i in batch_size:\n",
    "    cnn(i,epochs,x_train, x_test, y_train, y_test,num_classes = 3)"
   ]
  },
  {
   "cell_type": "code",
   "execution_count": null,
   "metadata": {},
   "outputs": [],
   "source": []
  }
 ],
 "metadata": {
  "kernelspec": {
   "display_name": "Python [conda root]",
   "language": "python",
   "name": "conda-root-py"
  },
  "language_info": {
   "codemirror_mode": {
    "name": "ipython",
    "version": 3
   },
   "file_extension": ".py",
   "mimetype": "text/x-python",
   "name": "python",
   "nbconvert_exporter": "python",
   "pygments_lexer": "ipython3",
   "version": "3.6.4"
  }
 },
 "nbformat": 4,
 "nbformat_minor": 2
}
